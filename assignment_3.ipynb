{
 "cells": [
  {
   "cell_type": "code",
   "execution_count": null,
   "metadata": {},
   "outputs": [],
   "source": [
    "%matplotlib inline\n",
    "import matplotlib.pyplot as plt\n",
    "import math\n",
    "import random\n",
    "list_inside=[]#for points inside the circle\n",
    "list_total=[]#for points plotted in total\n",
    "num_of_points=[10,100,1000,10000,50000,100000,500000,1000000,5000000]\n",
    "for i in num_of_points:\n",
    "    fig = plt.figure(figsize=(9,9))\n",
    "    ax = fig.add_subplot(1, 1, 1)\n",
    "    rect = plt.Rectangle((0, 0), 1, 1, edgecolor='k', fill=False)#As width and height are 1,1 it is a square\n",
    "    circ = plt.Circle((0.5, 0.5), 0.5, edgecolor='k', fill=False)#circle with center .5,.5 and radius .5\n",
    "    ax.add_patch(rect)#adding square to patch\n",
    "    ax.add_patch(circ)#adding circle to patch\n",
    "    plt.axis('scaled')#to give clear view of graph\n",
    "    for t in range(i):#range value is the number of random points needed\n",
    "        x=random.uniform(0,1)#generating random value for x\n",
    "        y=random.uniform(0,1)#generating random value for y\n",
    "        if((x-0.5)**2+(y-0.5)**2)<(0.25):#if inside the circle\n",
    "            list_inside.append([x,y])#points inside the circle\n",
    "            ax.scatter(x, y, marker='^',s=5,color='r')\n",
    "        elif((x-0.5)**2+(y-0.5)**2)>(0.25):#if outside the circle\n",
    "            ax.scatter(x, y, marker='o',s=5,color='b')\n",
    "        list_total.append([x,y])#total number of points\n",
    "    N_inner=len(list_inside)\n",
    "    N_total=len(list_total)\n",
    "    p=4*(N_inner/N_total)\n",
    "    print(\"value of pi:%f\"%p)\n",
    "    plt.show()"
   ]
  }
 ],
 "metadata": {
  "kernelspec": {
   "display_name": "Python 3",
   "language": "python",
   "name": "python3"
  },
  "language_info": {
   "codemirror_mode": {
    "name": "ipython",
    "version": 3
   },
   "file_extension": ".py",
   "mimetype": "text/x-python",
   "name": "python",
   "nbconvert_exporter": "python",
   "pygments_lexer": "ipython3",
   "version": "3.7.3"
  }
 },
 "nbformat": 4,
 "nbformat_minor": 2
}
